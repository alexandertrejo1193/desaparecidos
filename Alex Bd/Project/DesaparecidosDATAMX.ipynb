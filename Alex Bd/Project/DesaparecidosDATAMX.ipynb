{
 "cells": [
  {
   "cell_type": "code",
   "execution_count": 1,
   "id": "adc1c024",
   "metadata": {},
   "outputs": [],
   "source": [
    "import json\n",
    "import requests\n",
    "import pandas as pd\n",
    "from datetime import datetime"
   ]
  },
  {
   "cell_type": "code",
   "execution_count": 2,
   "id": "d399b9f5",
   "metadata": {},
   "outputs": [
    {
     "name": "stdout",
     "output_type": "stream",
     "text": [
      "ASP.NET_SessionId=bmaqoqfbffauwy0bxvay1g42; .AspNet.ApplicationCookie=cVj8g8xjTnos7csbtlBPh11IsFc0ibKRQmopFkpW6rNJhsWQz53pkZ1rT8Hk4PPk9-BYJ0chMj8x3gYbsZt9fYS0Ukl5c9m1lXMyXSEYmcb3Fup1ZbmLSD9DAzYr0xevLiUVcEuw-GYjdQ8SYHOkW2O8rSPC5MnZhivyXm4QT783DzSPAYZgPqpIFURRdlHRKidGDqTKfCvFa4aSiO6h-nOfJTw-6nLgf_fuscHp2azC5zWOo2PPUQ6GQGrfEJcSyfmffIPuZlYrfM0LwMvq5J_FLhnKsYAi3FqLnJgzJRkoIo4uwzxB1SgTgTx3J58gFJ-dn6zp9pssvtNOVsnKtbqWs7L2pSDA4J1ZyZwqFRs60e9m2l-NVh8_OqJHI3PfM4pMrqHtqW_lC4MoQx2RAyFYUyA3PXImPMYYmjD8n8raK7xS4p5ZWtW1k07V70TMuTUCHWyKDEC9tzX3E4rhujClXN1qjLvCmCni1sI-KsdrajxtTAslAvLScxTD0aTl7sIZnij1Ri5vIy-9d0nDZbwITGQ74RSD9m3CBV9YU7X7GMk3AoEhW8jdDplDkWUIBJdSzKBDJJCTX5iXl43IRXE3M7NdLDhEpMTmYvv57apWdyYImCJDm41KPmi1WnOpdXqO7PnPDzWdCnDOyeFjWQ\n"
     ]
    }
   ],
   "source": [
    "session = requests.Session()\n",
    "url = \"https://versionpublicarnpdno.segob.gob.mx/Dashboard/ContextoGeneral\"\n",
    "response = session.get(url)\n",
    "all_cookies=session.cookies.get_dict()[\".AspNet.ApplicationCookie\"]\n",
    "COOKIE=\"ASP.NET_SessionId=bmaqoqfbffauwy0bxvay1g42; .AspNet.ApplicationCookie=\"+all_cookies\n",
    "print(COOKIE)"
   ]
  },
  {
   "cell_type": "markdown",
   "id": "30e8908a",
   "metadata": {},
   "source": [
    "# Estados por clave"
   ]
  },
  {
   "cell_type": "code",
   "execution_count": 3,
   "id": "3e885a10",
   "metadata": {},
   "outputs": [],
   "source": [
    "ESTADOS = ['Aguascalientes', 'Baja California', 'Baja California Sur', 'Campeche',\n",
    " 'Coahuila', 'Colima', 'Chiapas', 'Chihuahua','Ciudad de México',\n",
    " 'Durango', 'Guanajuato', 'Guerrero', 'Hidalgo', 'Jalisco', 'Estado de México',\n",
    " 'Michoacán', 'Morelos', 'Nayarit', 'Nuevo León','Oaxaca', 'Puebla',\n",
    " 'Querétaro', 'Quintana Roo', 'San Luis Potosí','Sinaloa', 'Sonora',\n",
    " 'Tabasco', 'Tamaulipas','Tlaxcala', 'Veracruz','Yucatán',\n",
    "'Zacatecas','México']"
   ]
  },
  {
   "cell_type": "markdown",
   "id": "79ad91ff",
   "metadata": {},
   "source": [
    "# Fechas"
   ]
  },
  {
   "cell_type": "code",
   "execution_count": 4,
   "id": "7a44f16f",
   "metadata": {},
   "outputs": [
    {
     "data": {
      "text/plain": [
       "'PERIODO DEL 01/01/1962 09:00 HRS AL 01/07/2023 13:47 HRS'"
      ]
     },
     "execution_count": 4,
     "metadata": {},
     "output_type": "execute_result"
    }
   ],
   "source": [
    "url = \"https://versionpublicarnpdno.segob.gob.mx/ContextoGeneral/Fechas\"\n",
    "\n",
    "payload = {\n",
    "    \"IdRangoFechas\": 1,\n",
    "    \"FechaInicial\": None,\n",
    "    \"FechaFinal\": None\n",
    "}\n",
    "\n",
    "headers = {\n",
    "    'content-type': \"application/json; charset=UTF-8\",\n",
    "    \"cookie\": COOKIE,\n",
    "    'user-agent': \"Mozilla/5.0 (Macintosh; Intel Mac OS X 10_15_7) AppleWebKit/537.36 (KHTML, like Gecko) Chrome/113.0.0.0 Safari/537.36\",\n",
    "    }\n",
    "\n",
    "response = requests.request(\"POST\", url, json=payload, headers=headers)\n",
    "\n",
    "json_data = json.loads(response.content)\n",
    "Periodo=json_data['Periodo']\n",
    "Periodo"
   ]
  },
  {
   "cell_type": "markdown",
   "id": "7472c5a7",
   "metadata": {},
   "source": [
    "Desde cuando hasta la fecha de actualizacion"
   ]
  },
  {
   "cell_type": "markdown",
   "id": "3b51b8b6",
   "metadata": {},
   "source": [
    "## PERSONAS DESAPARECIDAS Y NO LOCALIZADAS EN MÉXICO POR ESTADO"
   ]
  },
  {
   "cell_type": "code",
   "execution_count": null,
   "id": "82d80273",
   "metadata": {},
   "outputs": [],
   "source": [
    "url = \"https://versionpublicarnpdno.segob.gob.mx/ContextoGeneral/MapChartEntidades\"\n",
    "\n",
    "headers = {\n",
    "    \"cookie\": COOKIE,\n",
    "    \"user-agent\": \"Mozilla/5.0 (Macintosh; Intel Mac OS X 10_15_7) AppleWebKit/537.36 (KHTML, like Gecko) Chrome/113.0.0.0 Safari/537.36\",\n",
    "}\n",
    "\n",
    "response = requests.request(\"POST\", url, headers=headers)\n",
    "\n",
    "json_data = json.loads(response.content)\n",
    "print(json_data['Title'])\n",
    "\n",
    "\n",
    "PERSONAS_DESAP_Y_NO_LOC_XEDO_DF={\"EDOSCLAVE\":[],\"ESTADOS\":ESTADOS,\"PERSONAS_DESAP_Y_NO_LOC_XEDO\" :[]}\n",
    "\n",
    "for i in json_data['Series']:\n",
    "    PERSONAS_DESAP_Y_NO_LOC_XEDO_DF[\"PERSONAS_DESAP_Y_NO_LOC_XEDO\"].append(i[1])\n",
    "    PERSONAS_DESAP_Y_NO_LOC_XEDO_DF[\"EDOSCLAVE\"].append(i[0])\n",
    "\n",
    "PERSONAS_DESAP_Y_NO_LOC_XEDO_Df=pd.DataFrame(PERSONAS_DESAP_Y_NO_LOC_XEDO_DF)\n",
    "\n",
    "list123=[]\n",
    "for i in range(len(PERSONAS_DESAP_Y_NO_LOC_XEDO_DF[\"EDOSCLAVE\"])):\n",
    "        ahora=datetime.now()\n",
    "        fecha=ahora.date()\n",
    "        list123.append(fecha)\n",
    "PERSONAS_DESAP_Y_NO_LOC_XEDO_Df[\"Fecha\"]=list123\n",
    "dfviejo=pd.read_excel('PERSONAS_DESAP_Y_NO_LOC_XEDO_Df.xlsx')\n",
    "df=pd.concat([dfviejo, PERSONAS_DESAP_Y_NO_LOC_XEDO_Df], sort=True,ignore_index=True)\n",
    "df.to_excel('PERSONAS_DESAP_Y_NO_LOC_XEDO_Df.xlsx',index=False)\n",
    "df"
   ]
  },
  {
   "cell_type": "markdown",
   "id": "65537208",
   "metadata": {},
   "source": [
    "# Totales"
   ]
  },
  {
   "cell_type": "code",
   "execution_count": null,
   "id": "ed67cf92",
   "metadata": {},
   "outputs": [],
   "source": [
    "url = \"https://versionpublicarnpdno.segob.gob.mx/ContextoGeneral/Totales\"\n",
    "\n",
    "\n",
    "headers = {\n",
    "    'cache-control': \"no-cache\",\n",
    "    'cookie': COOKIE\n",
    "    }\n",
    "\n",
    "response = requests.request(\"POST\", url, headers=headers)\n",
    "\n",
    "json_data = json.loads(response.content)\n",
    "Categoria_totales=[\"TotalGlobal\",\"TotalDesaparecidos\",\"TotalLocalizados\",\"PorcentajeDesaparecidos\",\"PorcentajeLocalizados\",\n",
    "\"TotalSoloDesaparecidos\",\"TotalSoloNoLocalizados\",\"PorcentajeSoloDesaparecidos\",\"PorcentajeSoloNoLocalizados\",\n",
    "\"TotalLocalizadosCV\",\"TotalLocalizadosSV\",\"PorcentajeLocalizadosCV\",\"PorcentajeLocalizadosSV\"]\n",
    "totales=[]\n",
    "for i in Categoria_totales:\n",
    "    totales.append(json_data[i])\n",
    "Totales_df={\"CATEGORIA\":[\"Total Global\",\"Total Desaparecidos\",\"Total Localizados\",\"Porcentaje Desaparecidos\",\"Porcentaje Localizados\",\n",
    "\"Total Solo Desaparecidos\",\"Total Solo No Localizados\",\"Porcentaje Solo Desaparecidos\",\"Porcentaje Solo No Localizados\",\n",
    "\"Total Localizados CV\",\"TotalLocalizados SV\",\"Porcentaje Localizados CV\",\"Porcentaje Localizados SV\"],\"TOTALES\":totales}\n",
    "Totales_Df=pd.DataFrame(Totales_df)\n",
    "\n",
    "list123=[]\n",
    "for i in range(len(Totales_Df[\"CATEGORIA\"])):\n",
    "        ahora=datetime.now()\n",
    "        fecha=ahora.date()\n",
    "        list123.append(fecha)\n",
    "Totales_Df[\"Fecha\"]=list123\n",
    "dfviejo=pd.read_excel('Totales_Df.xlsx')\n",
    "df=pd.concat([dfviejo, Totales_Df], sort=True,ignore_index=True)\n",
    "df.to_excel('Totales_Df.xlsx',index=False)\n",
    "df"
   ]
  },
  {
   "cell_type": "markdown",
   "id": "9dea3f5a",
   "metadata": {},
   "source": [
    "# PERSONAS DESAPARECIDAS Y NO LOCALIZADAS, Y LOCALIZADAS"
   ]
  },
  {
   "cell_type": "code",
   "execution_count": null,
   "id": "cdd515c5",
   "metadata": {},
   "outputs": [],
   "source": [
    "url = \"https://versionpublicarnpdno.segob.gob.mx/ContextoGeneral/PieChartDesaparecidos\"\n",
    "\n",
    "headers = {\n",
    "    \"cache-control\": \"no-cache\",\n",
    "    \"cookie\": COOKIE,\n",
    "    \"user-agent\": \"Mozilla/5.0 (Macintosh; Intel Mac OS X 10_15_7) AppleWebKit/537.36 (KHTML, like Gecko) Chrome/113.0.0.0 Safari/537.36\",\n",
    "}\n",
    "\n",
    "response = requests.request(\"POST\", url, headers=headers)\n",
    "json_data = json.loads(response.content)\n",
    "print(json_data['Title'])\n",
    "PERS_DES_YNOLOCYLOCCAT=[]\n",
    "PERS_DES_YNOLOCYLOC=[]\n",
    "PERS_DES_YNOLOCYLOCCAT.append(json_data[\"Series\"][0][\"data\"][0][\"name\"])\n",
    "PERS_DES_YNOLOCYLOC.append(json_data[\"Series\"][0][\"data\"][0][\"y\"])\n",
    "PERS_DES_YNOLOCYLOCCAT.append(json_data[\"Series\"][0][\"data\"][1][\"name\"])\n",
    "PERS_DES_YNOLOCYLOC.append(json_data[\"Series\"][0][\"data\"][1][\"y\"])\n",
    "PERS_DES_YNOLOCYLOC_DF={'CATEGORIA':PERS_DES_YNOLOCYLOCCAT,\"PERSONAS\":PERS_DES_YNOLOCYLOC}\n",
    "PERS_DES_YNOLOCYLOC_Df=pd.DataFrame(PERS_DES_YNOLOCYLOC_DF)\n",
    "#PERS_DES_YNOLOCYLOC_Df.to_excel('PERS_DES_YNOLOCYLOC_Df.xlsx',index=False)\n",
    "PERS_DES_YNOLOCYLOC_Df.head()\n",
    "\n",
    "list123=[]\n",
    "for i in range(len(PERS_DES_YNOLOCYLOC_Df[\"CATEGORIA\"])):\n",
    "        ahora=datetime.now()\n",
    "        fecha=ahora.date()\n",
    "        list123.append(fecha)\n",
    "PERS_DES_YNOLOCYLOC_Df[\"Fecha\"]=list123\n",
    "dfviejo=pd.read_excel('PERS_DES_YNOLOCYLOC_Df.xlsx')\n",
    "df=pd.concat([dfviejo, PERS_DES_YNOLOCYLOC_Df], sort=True,ignore_index=True)\n",
    "df.to_excel('PERS_DES_YNOLOCYLOC_Df.xlsx',index=False)\n",
    "df"
   ]
  },
  {
   "cell_type": "markdown",
   "id": "b5d407e2",
   "metadata": {},
   "source": [
    "# PERSONAS DESAPARECIDAS, NO LOCALIZADAS Y LOCALIZADAS\n",
    "## POR NACIONALIDAD MEXICANA Y EXTRANJEROS"
   ]
  },
  {
   "cell_type": "code",
   "execution_count": null,
   "id": "2eb4b522",
   "metadata": {},
   "outputs": [],
   "source": [
    "url = \"https://versionpublicarnpdno.segob.gob.mx/ContextoGeneral/PieChartNacionalidad\"\n",
    "\n",
    "headers = {\n",
    "    \"cache-control\": \"no-cache\",\n",
    "    \"cookie\": COOKIE,\n",
    "    \"user-agent\": \"Mozilla/5.0 (Macintosh; Intel Mac OS X 10_15_7) AppleWebKit/537.36 (KHTML, like Gecko) Chrome/113.0.0.0 Safari/537.36\",\n",
    "}\n",
    "\n",
    "response = requests.request(\"POST\", url, headers=headers)\n",
    "json_data = json.loads(response.content)\n",
    "CAT_PERS_DESAP_NOLOCYLOCPORNAC=[]\n",
    "PERS_DESAP_NOLOCYLOCPORNAC=[]\n",
    "\n",
    "CAT_PERS_DESAP_NOLOCYLOCPORNAC.append(json_data['Series'][0][\"data\"][0]['name'])\n",
    "CAT_PERS_DESAP_NOLOCYLOCPORNAC.append(json_data['Series'][0][\"data\"][1]['name'])\n",
    "PERS_DESAP_NOLOCYLOCPORNAC.append(json_data['Series'][0][\"data\"][0]['y'])\n",
    "PERS_DESAP_NOLOCYLOCPORNAC.append(json_data['Series'][0][\"data\"][1]['y'])\n",
    "PERS_DESAP_NOLOCYLOCPORNA_DF={'CATEGORIA':CAT_PERS_DESAP_NOLOCYLOCPORNAC,\"PERSONAS\":PERS_DESAP_NOLOCYLOCPORNAC}\n",
    "PERS_DESAP_NOLOCYLOCPORNA_Df=pd.DataFrame(PERS_DESAP_NOLOCYLOCPORNA_DF)\n",
    "\n",
    "list123=[]\n",
    "for i in range(len(PERS_DESAP_NOLOCYLOCPORNA_Df[\"PERSONAS\"])):\n",
    "        ahora=datetime.now()\n",
    "        fecha=ahora.date()\n",
    "        list123.append(fecha)\n",
    "list123\n",
    "PERS_DESAP_NOLOCYLOCPORNA_Df[\"Fecha\"]=list123\n",
    "\n",
    "dfviejo=pd.read_excel('PERS_DESAP_NOLOCYLOCPORNA_Df.xlsx')\n",
    "df=pd.concat([dfviejo, PERS_DESAP_NOLOCYLOCPORNA_Df], sort=True,ignore_index=True)\n",
    "df.to_excel('PERS_DESAP_NOLOCYLOCPORNA_Df.xlsx',index=False)\n",
    "df"
   ]
  },
  {
   "cell_type": "markdown",
   "id": "c01b8a84",
   "metadata": {},
   "source": [
    "# PERSONAS LOCALIZADAS\n",
    "## CON VIDA y SIN VIDA"
   ]
  },
  {
   "cell_type": "code",
   "execution_count": null,
   "id": "e732e176",
   "metadata": {},
   "outputs": [],
   "source": [
    "url = \"https://versionpublicarnpdno.segob.gob.mx/ContextoGeneral/PieChartLocalizados\"\n",
    "\n",
    "headers = {\n",
    "    \"cache-control\": \"no-cache\",\n",
    "    \"cookie\": COOKIE,\n",
    "    \"user-agent\": \"Mozilla/5.0 (Macintosh; Intel Mac OS X 10_15_7) AppleWebKit/537.36 (KHTML, like Gecko) Chrome/113.0.0.0 Safari/537.36\",\n",
    "}\n",
    "\n",
    "response = requests.request(\"POST\", url, headers=headers)\n",
    "json_data = json.loads(response.content)\n",
    "CAT_PERS_LOC_CONVIDA_SINVIDA=[]\n",
    "PERS_LOC_CONVIDA_SINVIDA=[]\n",
    "\n",
    "CAT_PERS_LOC_CONVIDA_SINVIDA.append(json_data['Series'][0][\"data\"][0]['name'])\n",
    "CAT_PERS_LOC_CONVIDA_SINVIDA.append(json_data['Series'][0][\"data\"][1]['name'])\n",
    "PERS_LOC_CONVIDA_SINVIDA.append(json_data['Series'][0][\"data\"][0]['y'])\n",
    "PERS_LOC_CONVIDA_SINVIDA.append(json_data['Series'][0][\"data\"][1]['y'])\n",
    "PERS_LOC_CONVIDA_SINVIDA_DF={'CATEGORIA':CAT_PERS_LOC_CONVIDA_SINVIDA,\"PERSONAS\":PERS_LOC_CONVIDA_SINVIDA}\n",
    "PERS_LOC_CONVIDA_SINVIDA_Df=pd.DataFrame(PERS_LOC_CONVIDA_SINVIDA_DF)\n",
    "\n",
    "\n",
    "list123=[]\n",
    "for i in range(len(PERS_LOC_CONVIDA_SINVIDA_Df[\"PERSONAS\"])):\n",
    "        ahora=datetime.now()\n",
    "        fecha=ahora.date()\n",
    "        list123.append(fecha)\n",
    "PERS_LOC_CONVIDA_SINVIDA_Df[\"Fecha\"]=list123\n",
    "\n",
    "dfviejo=pd.read_excel('PERS_LOC_CONVIDA_SINVIDA_Df.xlsx')\n",
    "df=pd.concat([dfviejo, PERS_LOC_CONVIDA_SINVIDA_Df], sort=True,ignore_index=True)\n",
    "df.to_excel('PERS_LOC_CONVIDA_SINVIDA_Df.xlsx',index=False)\n",
    "df"
   ]
  },
  {
   "cell_type": "markdown",
   "id": "0a176dc7",
   "metadata": {},
   "source": [
    "# PERSONAS DESAPARECIDAS Y NO LOCALIZADAS\n",
    "## POR SEXO"
   ]
  },
  {
   "cell_type": "code",
   "execution_count": null,
   "id": "b41b8d94",
   "metadata": {},
   "outputs": [],
   "source": [
    "url = \"https://versionpublicarnpdno.segob.gob.mx/ContextoGeneral/PieChartSexoEstatus\"\n",
    "payload = {\"IdEstatusV\": 1}\n",
    "headers = {\n",
    "    \"cookie\": COOKIE,\n",
    "    \"user-agent\": \"Mozilla/5.0 (Macintosh; Intel Mac OS X 10_15_7) AppleWebKit/537.36 (KHTML, like Gecko) Chrome/113.0.0.0 Safari/537.36\",\n",
    "}\n",
    "\n",
    "response = requests.request(\"POST\", url, json=payload, headers=headers)\n",
    "json_data = json.loads(response.content)\n",
    "CAT_PERS_DESAP_NOLOCYLOCPORSEX=[]\n",
    "PERS_DESAP_NOLOCYLOCPORSEX=[]\n",
    "\n",
    "CAT_PERS_DESAP_NOLOCYLOCPORSEX.append(json_data['Series'][0][\"data\"][0]['name'])\n",
    "CAT_PERS_DESAP_NOLOCYLOCPORSEX.append(json_data['Series'][0][\"data\"][1]['name'])\n",
    "CAT_PERS_DESAP_NOLOCYLOCPORSEX.append(json_data['Series'][0][\"data\"][2]['name'])\n",
    "PERS_DESAP_NOLOCYLOCPORSEX.append(json_data['Series'][0][\"data\"][0]['y'])\n",
    "PERS_DESAP_NOLOCYLOCPORSEX.append(json_data['Series'][0][\"data\"][1]['y'])\n",
    "PERS_DESAP_NOLOCYLOCPORSEX.append(json_data['Series'][0][\"data\"][2]['y'])\n",
    "PERS_DESAP_NOLOCYLOCPORSEX_DF={'CATEGORIA':CAT_PERS_DESAP_NOLOCYLOCPORSEX,\"PERSONAS\":PERS_DESAP_NOLOCYLOCPORSEX}\n",
    "PERS_DESAP_NOLOCYLOCPORSEX_Df=pd.DataFrame(PERS_DESAP_NOLOCYLOCPORSEX_DF)\n",
    "\n",
    "\n",
    "list123=[]\n",
    "for i in range(len(PERS_DESAP_NOLOCYLOCPORSEX_Df[\"PERSONAS\"])):\n",
    "        ahora=datetime.now()\n",
    "        fecha=ahora.date()\n",
    "        list123.append(fecha)\n",
    "PERS_DESAP_NOLOCYLOCPORSEX_Df[\"Fecha\"]=list123\n",
    "\n",
    "dfviejo=pd.read_excel('PERS_DESAP_NOLOCYLOCPORSEX_Df.xlsx')\n",
    "df=pd.concat([dfviejo, PERS_DESAP_NOLOCYLOCPORSEX_Df], sort=True,ignore_index=True)\n",
    "df.to_excel('PERS_DESAP_NOLOCYLOCPORSEX_Df.xlsx',index=False)\n",
    "df"
   ]
  },
  {
   "cell_type": "markdown",
   "id": "c082cf8d",
   "metadata": {},
   "source": [
    "# PERSONAS DESAPARECIDAS, NO LOCALIZADAS Y LOCALIZADAS\n",
    "## POR SEXO Y ESTADO"
   ]
  },
  {
   "cell_type": "code",
   "execution_count": null,
   "id": "e6280a3d",
   "metadata": {},
   "outputs": [],
   "source": [
    "url = \"https://versionpublicarnpdno.segob.gob.mx/SocioDemografico/BarChartSexoEstados\"\n",
    "payload = {\"IdEstatusV\": 1}\n",
    "headers = {\n",
    "    \"cookie\": COOKIE,\n",
    "    \"user-agent\": \"Mozilla/5.0 (Macintosh; Intel Mac OS X 10_15_7) AppleWebKit/537.36 (KHTML, like Gecko) Chrome/113.0.0.0 Safari/537.36\",\n",
    "}\n",
    "\n",
    "response = requests.request(\"POST\", url, json=payload, headers=headers)\n",
    "json_data = json.loads(response.content)\n",
    "\n",
    "CAT_PERS_DESAP_NOLOCYLOCPOREDO=[]\n",
    "PERS_DESAP_NOLOCYLOCPOREDO_Hombre=[]\n",
    "PERS_DESAP_NOLOCYLOCPOREDO_Mujer=[]\n",
    "PERS_DESAP_NOLOCYLOCPOREDO_Indeterminado=[]\n",
    "CAT_PERS_DESAP_NOLOCYLOCPOREDO.extend(json_data['XAxisCategories'])\n",
    "PERS_DESAP_NOLOCYLOCPOREDO_Hombre.extend(json_data['Series'][0]['data'])\n",
    "PERS_DESAP_NOLOCYLOCPOREDO_Mujer.extend(json_data['Series'][1]['data'])\n",
    "PERS_DESAP_NOLOCYLOCPOREDO_Indeterminado.extend(json_data['Series'][2]['data'])\n",
    "PERS_DESAP_NOLOCYLOCPOREDO_DF={'CATEGORIA':CAT_PERS_DESAP_NOLOCYLOCPOREDO,\"Hombre\":PERS_DESAP_NOLOCYLOCPOREDO_Hombre,\"Mujer\":PERS_DESAP_NOLOCYLOCPOREDO_Mujer,\"Indeterminado\":PERS_DESAP_NOLOCYLOCPOREDO_Indeterminado}\n",
    "PERS_DESAP_NOLOCYLOCPOREDO_Df=pd.DataFrame(PERS_DESAP_NOLOCYLOCPOREDO_DF)\n",
    "\n",
    "list123=[]\n",
    "for i in range(len(PERS_DESAP_NOLOCYLOCPOREDO_Df[\"CATEGORIA\"])):\n",
    "        ahora=datetime.now()\n",
    "        fecha=ahora.date()\n",
    "        list123.append(fecha)\n",
    "PERS_DESAP_NOLOCYLOCPOREDO_Df[\"Fecha\"]=list123\n",
    "\n",
    "dfviejo=pd.read_excel('PERS_DESAP_NOLOCYLOCPOREDO_Df.xlsx')\n",
    "df=pd.concat([dfviejo, PERS_DESAP_NOLOCYLOCPOREDO_Df], sort=True,ignore_index=True)\n",
    "df.to_excel('PERS_DESAP_NOLOCYLOCPOREDO_Df.xlsx',index=False)\n",
    "df"
   ]
  },
  {
   "cell_type": "code",
   "execution_count": null,
   "id": "c4d1d84e",
   "metadata": {},
   "outputs": [],
   "source": [
    "url = \"https://versionpublicarnpdno.segob.gob.mx/SocioDemografico/AreaChartSexoRango\"\n",
    "payload = {\"IdEstatusV\": 1}\n",
    "headers = {\n",
    "    \"cookie\": COOKIE,\n",
    "    \"user-agent\": \"Mozilla/5.0 (Macintosh; Intel Mac OS X 10_15_7) AppleWebKit/537.36 (KHTML, like Gecko) Chrome/113.0.0.0 Safari/537.36\",\n",
    "}\n",
    "\n",
    "response = requests.request(\"POST\", url, json=payload, headers=headers)\n",
    "json_data = json.loads(response.content)\n",
    "\n",
    "CAT_PERS_DESAP_NOLOCYLOCPORedad=[]\n",
    "PERS_DESAP_NOLOCYLOCPORedad_Hombre=[]\n",
    "PERS_DESAP_NOLOCYLOCPORedad_Mujer=[]\n",
    "PERS_DESAP_NOLOCYLOCPORedad_Indeterminado=[]\n",
    "CAT_PERS_DESAP_NOLOCYLOCPORedad.extend(json_data['XAxisCategories'])\n",
    "PERS_DESAP_NOLOCYLOCPORedad_Hombre.extend(json_data['Series'][0]['data'])\n",
    "PERS_DESAP_NOLOCYLOCPORedad_Mujer.extend(json_data['Series'][1]['data'])\n",
    "PERS_DESAP_NOLOCYLOCPORedad_Indeterminado.extend(json_data['Series'][2]['data'])\n",
    "PERS_DESAP_NOLOCYLOCPORedad_DF={'CATEGORIA':CAT_PERS_DESAP_NOLOCYLOCPORedad,\"Hombre\":PERS_DESAP_NOLOCYLOCPORedad_Hombre,\"Mujer\":PERS_DESAP_NOLOCYLOCPORedad_Mujer,\"Indeterminado\":PERS_DESAP_NOLOCYLOCPORedad_Indeterminado}\n",
    "PERS_DESAP_NOLOCYLOCPORedad_Df=pd.DataFrame(PERS_DESAP_NOLOCYLOCPORedad_DF)\n",
    "list123=[]\n",
    "for i in range(len(PERS_DESAP_NOLOCYLOCPORedad_Df[\"CATEGORIA\"])):\n",
    "        ahora=datetime.now()\n",
    "        fecha=ahora.date()\n",
    "        list123.append(fecha)\n",
    "PERS_DESAP_NOLOCYLOCPORedad_Df[\"Fecha\"]=list123\n",
    "\n",
    "dfviejo=pd.read_excel('PERS_DESAP_NOLOCYLOCPORedad_Df.xlsx')\n",
    "df=pd.concat([dfviejo, PERS_DESAP_NOLOCYLOCPORedad_Df], sort=True,ignore_index=True)\n",
    "df.to_excel('PERS_DESAP_NOLOCYLOCPORedad_Df.xlsx',index=False)\n",
    "df"
   ]
  },
  {
   "cell_type": "code",
   "execution_count": null,
   "id": "ff825af1",
   "metadata": {},
   "outputs": [],
   "source": [
    "url = \"https://versionpublicarnpdno.segob.gob.mx/SocioDemografico/BarChartSexoNacionalidad\"\n",
    "payload = {\"IdEstatusV\": 1}\n",
    "headers = {\n",
    "    \"cookie\": COOKIE,\n",
    "    \"user-agent\": \"Mozilla/5.0 (Macintosh; Intel Mac OS X 10_15_7) AppleWebKit/537.36 (KHTML, like Gecko) Chrome/113.0.0.0 Safari/537.36\",\n",
    "}\n",
    "\n",
    "response = requests.request(\"POST\", url, json=payload, headers=headers)\n",
    "json_data = json.loads(response.content)\n",
    "\n",
    "CAT_PERS_DESAP_NOLOCYLOCPORnac=[]\n",
    "PERS_DESAP_NOLOCYLOCPORnac_Hombre=[]\n",
    "PERS_DESAP_NOLOCYLOCPORnac_Mujer=[]\n",
    "PERS_DESAP_NOLOCYLOCPORnac_Indeterminado=[]\n",
    "CAT_PERS_DESAP_NOLOCYLOCPORnac.extend(json_data['XAxisCategories'])\n",
    "PERS_DESAP_NOLOCYLOCPORnac_Hombre.extend(json_data['Series'][0]['data'])\n",
    "PERS_DESAP_NOLOCYLOCPORnac_Mujer.extend(json_data['Series'][1]['data'])\n",
    "PERS_DESAP_NOLOCYLOCPORnac_Indeterminado.extend(json_data['Series'][2]['data'])\n",
    "PERS_DESAP_NOLOCYLOCPORnac_DF={'CATEGORIA':CAT_PERS_DESAP_NOLOCYLOCPORnac,\n",
    "                               \"Hombre\":PERS_DESAP_NOLOCYLOCPORnac_Hombre,\n",
    "                               \"Mujer\":PERS_DESAP_NOLOCYLOCPORnac_Mujer,\n",
    "                               \"Indeterminado\":PERS_DESAP_NOLOCYLOCPORnac_Indeterminado}\n",
    "PERS_DESAP_NOLOCYLOCPORnac_Df=pd.DataFrame(PERS_DESAP_NOLOCYLOCPORnac_DF)\n",
    "list123=[]\n",
    "for i in range(len(PERS_DESAP_NOLOCYLOCPORnac_Df[\"CATEGORIA\"])):\n",
    "        ahora=datetime.now()\n",
    "        fecha=ahora.date()\n",
    "        list123.append(fecha)\n",
    "PERS_DESAP_NOLOCYLOCPORnac_Df[\"Fecha\"]=list123\n",
    "\n",
    "dfviejo=pd.read_excel('PERS_DESAP_NOLOCYLOCPORnac_Df.xlsx')\n",
    "df=pd.concat([dfviejo, PERS_DESAP_NOLOCYLOCPORnac_Df], sort=True,ignore_index=True)\n",
    "df.to_excel('PERS_DESAP_NOLOCYLOCPORnac_Df.xlsx',index=False)\n",
    "df"
   ]
  },
  {
   "cell_type": "markdown",
   "id": "7e84269f",
   "metadata": {},
   "source": [
    "https://adondevanlosdesaparecidos.org/2020/07/13/presentan-plataforma-de-personas-desaparecidas-pero-no-abren-datos/"
   ]
  },
  {
   "cell_type": "code",
   "execution_count": null,
   "id": "ba9c8380",
   "metadata": {},
   "outputs": [],
   "source": [
    "#from lxml import etree\n",
    "#import pandas as pd \n",
    "#import datetime \n",
    "#from lxml import html\n",
    "#import random\n",
    "#from selenium import webdriver\n",
    "#from selenium.webdriver.common.by import By\n",
    "#from selenium.webdriver.support import expected_conditions as EC\n",
    "#from selenium.webdriver.support.ui import WebDriverWait\n",
    "#import time\n",
    "\n",
    "#url=\"https://versionpublicarnpdno.segob.gob.mx/Dashboard/ContextoGeneral\"\n",
    "#driver=webdriver.Chrome('./chromedriver.exe')\n",
    "#driver.get(url)\n",
    "\n",
    "#try:\n",
    "#    checkbox = driver.find_element(By.ID, \"chkAceptarTerminos\")\n",
    "#    checkbox.click()\n",
    "#    boton = driver.find_element(By.ID, \"EnlaceSiguiente\")\n",
    "#    boton.click()\n",
    "#except:\n",
    "#    print(\"No hay términos\")\n",
    "#try:\n",
    "#    boton3 = driver.find_element(By.ID, \"EnlaceSiguiente\")\n",
    "#    boton3.click()\n",
    "#except:\n",
    "#    print(\"No hay 2da advertencia\")    \n",
    "#try:\n",
    "#    boton2 = driver.find_element(By.ID, \"close-modal-cargas-masivas\")\n",
    "#    boton2.click()\n",
    "#except:\n",
    "#    print(\"No hay cargas masivas\")\n",
    "#time.sleep(35) \n",
    "#codigo con selenium (1era prueba)\n",
    "#import requests \n",
    "#from bs4 import BeautifulSoup \n",
    "  \n",
    "#Total_de_personas_desaparecidasnolocyloc = driver.find_element(By.ID, \"TotalGlobal\").text\n",
    "#Total_de_personas_desaparecidasnoloc = driver.find_element(By.ID, \"TotalDesaparecidosNoLocalizados\").text\n",
    "#print(Total_de_personas_desaparecidasnoloc)\n",
    "\n",
    "#element = driver.find_element(By.XPATH, \"//*[@id='highcharts-qj6v20v-978']/svg/g[3]/g/rect\")\n",
    "#element.click()"
   ]
  },
  {
   "cell_type": "code",
   "execution_count": null,
   "id": "23ec9763",
   "metadata": {},
   "outputs": [],
   "source": [
    "#from selenium import webdriver\n",
    "#from selenium.webdriver.common.keys import Keys\n",
    "#url=\"https://versionpublicarnpdno.segob.gob.mx/Dashboard/ContextoGeneral\"\n",
    "#driver=webdriver.Chrome('./chromedriver.exe')\n",
    "#driver.get(url)\n",
    "#all_cookies=driver.get_cookies()\n",
    "#COOKIE=\"ASP.NET_SessionId=bmaqoqfbffauwy0bxvay1g42; .AspNet.ApplicationCookie=\"+all_cookies[0]['value']\n",
    "#print(COOKIE)\n",
    "#driver.close()"
   ]
  }
 ],
 "metadata": {
  "kernelspec": {
   "display_name": "Python 3 (ipykernel)",
   "language": "python",
   "name": "python3"
  },
  "language_info": {
   "codemirror_mode": {
    "name": "ipython",
    "version": 3
   },
   "file_extension": ".py",
   "mimetype": "text/x-python",
   "name": "python",
   "nbconvert_exporter": "python",
   "pygments_lexer": "ipython3",
   "version": "3.9.16"
  }
 },
 "nbformat": 4,
 "nbformat_minor": 5
}
