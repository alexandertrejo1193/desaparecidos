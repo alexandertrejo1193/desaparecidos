{
 "cells": [
  {
   "cell_type": "markdown",
   "id": "30e8908a",
   "metadata": {},
   "source": [
    "# Estados por clave"
   ]
  },
  {
   "cell_type": "code",
   "execution_count": 1,
   "id": "adc1c024",
   "metadata": {},
   "outputs": [],
   "source": [
    "import json\n",
    "import requests\n",
    "import pandas as pd"
   ]
  },
  {
   "cell_type": "code",
   "execution_count": 2,
   "id": "3e885a10",
   "metadata": {},
   "outputs": [],
   "source": [
    "ESTADOS = ['Aguascalientes', 'Baja California', 'Baja California Sur', 'Campeche',\n",
    " 'Coahuila', 'Colima', 'Chiapas', 'Chihuahua','Ciudad de México',\n",
    " 'Durango', 'Guanajuato', 'Guerrero', 'Hidalgo', 'Jalisco', 'Estado de México',\n",
    " 'Michoacán', 'Morelos', 'Nayarit', 'Nuevo León','Oaxaca', 'Puebla',\n",
    " 'Querétaro', 'Quintana Roo', 'San Luis Potosí','Sinaloa', 'Sonora',\n",
    " 'Tabasco', 'Tamaulipas','Tlaxcala', 'Veracruz','Yucatán',\n",
    "'Zacatecas','México']"
   ]
  },
  {
   "cell_type": "code",
   "execution_count": 3,
   "id": "23ec9763",
   "metadata": {},
   "outputs": [
    {
     "name": "stderr",
     "output_type": "stream",
     "text": [
      "/var/folders/h0/6jskkw0s02jbfv_vrkdvdb2h0000gn/T/ipykernel_56345/2826850029.py:4: DeprecationWarning: executable_path has been deprecated, please pass in a Service object\n",
      "  driver=webdriver.Chrome('./chromedriver.exe')\n"
     ]
    },
    {
     "name": "stdout",
     "output_type": "stream",
     "text": [
      "ASP.NET_SessionId=bmaqoqfbffauwy0bxvay1g42; .AspNet.ApplicationCookie=mFQl1fb0T7CqW2JuptmCMU2BJkthX8TlUF1JrI9fnsYAb723UNgT7e1tXC-1FLcmIdW6ro9-IMCZciujTENu8rAz7cnZ2sMrdYZyvnBgFL9FSXm0d4LKLYLO5tFdHa4Q5TcrG6AeZOOwr27S3H-W6dsbM1ypMyTRPL-ch4nmmMM-LLh5-xTnaCKdxPo5uXNOk6EC-l49cXEEHrNkdOy1URgC4QvlxbmTmNmlfhQlNEvfBfXEvt6NyegyYpAO51y33yi1ytR89Uk9Hn6YpUoQjZ5EDMPYdZbS2qwCQ8YQiP9OXB_b-9ybXJkgVomS9BKFDrdBJH6PRSJ5oWat7eWlviZwJ2I_aZiy6NNrYAu9zXG_3b8N_yxI4cGU8iz7ZzLPeroDPVu6b83py6pjxha-sBbo4jjEjVGig9seWOfpfhJLgMLMTUlOY_0LAj0EyRot5_pbQdjugy_rPz8zkPVdHVRMY-RBqWDwpEmhOq1q-v7uoxFv6UBGPVIJny7tNCS85dfwzD_r-FduZ8NVBe67GNx6PTuBPhbrBY62kU5kAHGKCZsvADRDW5xFjaoIANmnKLmHrmWX7OR81g2xmTBC0DeqyefwtwLqRi-sJqQcsI8dmCn-1FhHQRS0BAgQY9NjDaWOoB7OlmsRdFBRN_S4Eg\n"
     ]
    }
   ],
   "source": [
    "from selenium import webdriver\n",
    "from selenium.webdriver.common.keys import Keys\n",
    "url=\"https://versionpublicarnpdno.segob.gob.mx/Dashboard/ContextoGeneral\"\n",
    "driver=webdriver.Chrome('./chromedriver.exe')\n",
    "driver.get(url)\n",
    "all_cookies=driver.get_cookies()\n",
    "COOKIE=\"ASP.NET_SessionId=bmaqoqfbffauwy0bxvay1g42; .AspNet.ApplicationCookie=\"+all_cookies[0]['value']\n",
    "print(COOKIE)\n",
    "driver.close()"
   ]
  },
  {
   "cell_type": "markdown",
   "id": "3b51b8b6",
   "metadata": {},
   "source": [
    "## PERSONAS DESAPARECIDAS Y NO LOCALIZADAS EN MÉXICO POR ESTADO"
   ]
  },
  {
   "cell_type": "code",
   "execution_count": 4,
   "id": "82d80273",
   "metadata": {},
   "outputs": [
    {
     "name": "stdout",
     "output_type": "stream",
     "text": [
      "PERSONAS DESAPARECIDAS Y NO LOCALIZADAS EN MÉXICO\n"
     ]
    },
    {
     "data": {
      "text/html": [
       "<div>\n",
       "<style scoped>\n",
       "    .dataframe tbody tr th:only-of-type {\n",
       "        vertical-align: middle;\n",
       "    }\n",
       "\n",
       "    .dataframe tbody tr th {\n",
       "        vertical-align: top;\n",
       "    }\n",
       "\n",
       "    .dataframe thead th {\n",
       "        text-align: right;\n",
       "    }\n",
       "</style>\n",
       "<table border=\"1\" class=\"dataframe\">\n",
       "  <thead>\n",
       "    <tr style=\"text-align: right;\">\n",
       "      <th></th>\n",
       "      <th>EDOSCLAVE</th>\n",
       "      <th>ESTADOS</th>\n",
       "      <th>PERSONAS_DESAP_Y_NO_LOC_XEDO</th>\n",
       "    </tr>\n",
       "  </thead>\n",
       "  <tbody>\n",
       "    <tr>\n",
       "      <th>0</th>\n",
       "      <td>mx-ag</td>\n",
       "      <td>Aguascalientes</td>\n",
       "      <td>386</td>\n",
       "    </tr>\n",
       "    <tr>\n",
       "      <th>1</th>\n",
       "      <td>mx-bc</td>\n",
       "      <td>Baja California</td>\n",
       "      <td>2377</td>\n",
       "    </tr>\n",
       "    <tr>\n",
       "      <th>2</th>\n",
       "      <td>mx-bs</td>\n",
       "      <td>Baja California Sur</td>\n",
       "      <td>913</td>\n",
       "    </tr>\n",
       "    <tr>\n",
       "      <th>3</th>\n",
       "      <td>mx-cm</td>\n",
       "      <td>Campeche</td>\n",
       "      <td>121</td>\n",
       "    </tr>\n",
       "    <tr>\n",
       "      <th>4</th>\n",
       "      <td>mx-co</td>\n",
       "      <td>Coahuila</td>\n",
       "      <td>3579</td>\n",
       "    </tr>\n",
       "  </tbody>\n",
       "</table>\n",
       "</div>"
      ],
      "text/plain": [
       "  EDOSCLAVE              ESTADOS  PERSONAS_DESAP_Y_NO_LOC_XEDO\n",
       "0     mx-ag       Aguascalientes                           386\n",
       "1     mx-bc      Baja California                          2377\n",
       "2     mx-bs  Baja California Sur                           913\n",
       "3     mx-cm             Campeche                           121\n",
       "4     mx-co             Coahuila                          3579"
      ]
     },
     "execution_count": 4,
     "metadata": {},
     "output_type": "execute_result"
    }
   ],
   "source": [
    "url = \"https://versionpublicarnpdno.segob.gob.mx/ContextoGeneral/MapChartEntidades\"\n",
    "\n",
    "headers = {\n",
    "    \"cookie\": COOKIE,\n",
    "    \"user-agent\": \"Mozilla/5.0 (Macintosh; Intel Mac OS X 10_15_7) AppleWebKit/537.36 (KHTML, like Gecko) Chrome/113.0.0.0 Safari/537.36\",\n",
    "}\n",
    "\n",
    "response = requests.request(\"POST\", url, headers=headers)\n",
    "\n",
    "json_data = json.loads(response.content)\n",
    "print(json_data['Title'])\n",
    "\n",
    "PERSONAS_DESAP_Y_NO_LOC_XEDO_DF={\"EDOSCLAVE\":[],\"ESTADOS\":ESTADOS,\"PERSONAS_DESAP_Y_NO_LOC_XEDO\" :[]}\n",
    "\n",
    "for i in json_data['Series']:\n",
    "    PERSONAS_DESAP_Y_NO_LOC_XEDO_DF[\"PERSONAS_DESAP_Y_NO_LOC_XEDO\"].append(i[1])\n",
    "    PERSONAS_DESAP_Y_NO_LOC_XEDO_DF[\"EDOSCLAVE\"].append(i[0])\n",
    "\n",
    "PERSONAS_DESAP_Y_NO_LOC_XEDO_Df=pd.DataFrame(PERSONAS_DESAP_Y_NO_LOC_XEDO_DF)\n",
    "#PERSONAS_DESAP_Y_NO_LOC_XEDO_Df.to_excel('PERSONAS_DESAP_Y_NO_LOC_XEDO_Df.xlsx',index=False)\n",
    "PERSONAS_DESAP_Y_NO_LOC_XEDO_Df.head()"
   ]
  },
  {
   "cell_type": "markdown",
   "id": "79ad91ff",
   "metadata": {},
   "source": [
    "# Fechas"
   ]
  },
  {
   "cell_type": "markdown",
   "id": "7472c5a7",
   "metadata": {},
   "source": [
    "Desde cuando hasta la fecha de actualizacion"
   ]
  },
  {
   "cell_type": "code",
   "execution_count": 5,
   "id": "7a44f16f",
   "metadata": {},
   "outputs": [
    {
     "data": {
      "text/plain": [
       "'PERIODO DEL 01/01/1962 09:00 HRS AL 27/05/2023 18:21 HRS'"
      ]
     },
     "execution_count": 5,
     "metadata": {},
     "output_type": "execute_result"
    }
   ],
   "source": [
    "url = \"https://versionpublicarnpdno.segob.gob.mx/ContextoGeneral/Fechas\"\n",
    "\n",
    "payload = {\n",
    "    \"IdRangoFechas\": 1,\n",
    "    \"FechaInicial\": None,\n",
    "    \"FechaFinal\": None\n",
    "}\n",
    "\n",
    "headers = {\n",
    "    'content-type': \"application/json; charset=UTF-8\",\n",
    "    \"cookie\": COOKIE,\n",
    "    'user-agent': \"Mozilla/5.0 (Macintosh; Intel Mac OS X 10_15_7) AppleWebKit/537.36 (KHTML, like Gecko) Chrome/113.0.0.0 Safari/537.36\",\n",
    "    }\n",
    "\n",
    "response = requests.request(\"POST\", url, json=payload, headers=headers)\n",
    "\n",
    "json_data = json.loads(response.content)\n",
    "Periodo=json_data['Periodo']\n",
    "Periodo"
   ]
  },
  {
   "cell_type": "markdown",
   "id": "65537208",
   "metadata": {},
   "source": [
    "# Totales"
   ]
  },
  {
   "cell_type": "code",
   "execution_count": 6,
   "id": "ed67cf92",
   "metadata": {},
   "outputs": [
    {
     "data": {
      "text/html": [
       "<div>\n",
       "<style scoped>\n",
       "    .dataframe tbody tr th:only-of-type {\n",
       "        vertical-align: middle;\n",
       "    }\n",
       "\n",
       "    .dataframe tbody tr th {\n",
       "        vertical-align: top;\n",
       "    }\n",
       "\n",
       "    .dataframe thead th {\n",
       "        text-align: right;\n",
       "    }\n",
       "</style>\n",
       "<table border=\"1\" class=\"dataframe\">\n",
       "  <thead>\n",
       "    <tr style=\"text-align: right;\">\n",
       "      <th></th>\n",
       "      <th>CATEGORIA</th>\n",
       "      <th>TOTALES</th>\n",
       "    </tr>\n",
       "  </thead>\n",
       "  <tbody>\n",
       "    <tr>\n",
       "      <th>0</th>\n",
       "      <td>Total Global</td>\n",
       "      <td>283,752</td>\n",
       "    </tr>\n",
       "    <tr>\n",
       "      <th>1</th>\n",
       "      <td>Total Desaparecidos</td>\n",
       "      <td>110,754</td>\n",
       "    </tr>\n",
       "    <tr>\n",
       "      <th>2</th>\n",
       "      <td>Total Localizados</td>\n",
       "      <td>172,998</td>\n",
       "    </tr>\n",
       "    <tr>\n",
       "      <th>3</th>\n",
       "      <td>Porcentaje Desaparecidos</td>\n",
       "      <td>39.03 %</td>\n",
       "    </tr>\n",
       "    <tr>\n",
       "      <th>4</th>\n",
       "      <td>Porcentaje Localizados</td>\n",
       "      <td>60.97 %</td>\n",
       "    </tr>\n",
       "  </tbody>\n",
       "</table>\n",
       "</div>"
      ],
      "text/plain": [
       "                  CATEGORIA  TOTALES\n",
       "0              Total Global  283,752\n",
       "1       Total Desaparecidos  110,754\n",
       "2         Total Localizados  172,998\n",
       "3  Porcentaje Desaparecidos  39.03 %\n",
       "4    Porcentaje Localizados  60.97 %"
      ]
     },
     "execution_count": 6,
     "metadata": {},
     "output_type": "execute_result"
    }
   ],
   "source": [
    "url = \"https://versionpublicarnpdno.segob.gob.mx/ContextoGeneral/Totales\"\n",
    "\n",
    "\n",
    "headers = {\n",
    "    'cache-control': \"no-cache\",\n",
    "    'cookie': COOKIE\n",
    "    }\n",
    "\n",
    "response = requests.request(\"POST\", url, headers=headers)\n",
    "\n",
    "json_data = json.loads(response.content)\n",
    "Categoria_totales=[\"TotalGlobal\",\"TotalDesaparecidos\",\"TotalLocalizados\",\"PorcentajeDesaparecidos\",\"PorcentajeLocalizados\",\n",
    "\"TotalSoloDesaparecidos\",\"TotalSoloNoLocalizados\",\"PorcentajeSoloDesaparecidos\",\"PorcentajeSoloNoLocalizados\",\n",
    "\"TotalLocalizadosCV\",\"TotalLocalizadosSV\",\"PorcentajeLocalizadosCV\",\"PorcentajeLocalizadosSV\"]\n",
    "totales=[]\n",
    "for i in Categoria_totales:\n",
    "    totales.append(json_data[i])\n",
    "Totales_df={\"CATEGORIA\":[\"Total Global\",\"Total Desaparecidos\",\"Total Localizados\",\"Porcentaje Desaparecidos\",\"Porcentaje Localizados\",\n",
    "\"Total Solo Desaparecidos\",\"Total Solo No Localizados\",\"Porcentaje Solo Desaparecidos\",\"Porcentaje Solo No Localizados\",\n",
    "\"Total Localizados CV\",\"TotalLocalizados SV\",\"Porcentaje Localizados CV\",\"Porcentaje Localizados SV\"],\"TOTALES\":totales}\n",
    "Totales_Df=pd.DataFrame(Totales_df)\n",
    "#Totales_Df.to_excel('Totales_Df.xlsx',index=False)\n",
    "Totales_Df.head()"
   ]
  },
  {
   "cell_type": "markdown",
   "id": "9dea3f5a",
   "metadata": {},
   "source": [
    "# PERSONAS DESAPARECIDAS Y NO LOCALIZADAS, Y LOCALIZADAS"
   ]
  },
  {
   "cell_type": "code",
   "execution_count": 7,
   "id": "cdd515c5",
   "metadata": {},
   "outputs": [
    {
     "name": "stdout",
     "output_type": "stream",
     "text": [
      "PERSONAS DESAPARECIDAS Y NO LOCALIZADAS, Y LOCALIZADAS\n"
     ]
    },
    {
     "data": {
      "text/html": [
       "<div>\n",
       "<style scoped>\n",
       "    .dataframe tbody tr th:only-of-type {\n",
       "        vertical-align: middle;\n",
       "    }\n",
       "\n",
       "    .dataframe tbody tr th {\n",
       "        vertical-align: top;\n",
       "    }\n",
       "\n",
       "    .dataframe thead th {\n",
       "        text-align: right;\n",
       "    }\n",
       "</style>\n",
       "<table border=\"1\" class=\"dataframe\">\n",
       "  <thead>\n",
       "    <tr style=\"text-align: right;\">\n",
       "      <th></th>\n",
       "      <th>CATEGORIA</th>\n",
       "      <th>PERSONAS</th>\n",
       "    </tr>\n",
       "  </thead>\n",
       "  <tbody>\n",
       "    <tr>\n",
       "      <th>0</th>\n",
       "      <td>Localizadas</td>\n",
       "      <td>172998</td>\n",
       "    </tr>\n",
       "    <tr>\n",
       "      <th>1</th>\n",
       "      <td>Desaparecidas y No localizadas</td>\n",
       "      <td>110754</td>\n",
       "    </tr>\n",
       "  </tbody>\n",
       "</table>\n",
       "</div>"
      ],
      "text/plain": [
       "                        CATEGORIA  PERSONAS\n",
       "0                     Localizadas    172998\n",
       "1  Desaparecidas y No localizadas    110754"
      ]
     },
     "execution_count": 7,
     "metadata": {},
     "output_type": "execute_result"
    }
   ],
   "source": [
    "url = \"https://versionpublicarnpdno.segob.gob.mx/ContextoGeneral/PieChartDesaparecidos\"\n",
    "\n",
    "headers = {\n",
    "    \"cache-control\": \"no-cache\",\n",
    "    \"cookie\": COOKIE,\n",
    "    \"user-agent\": \"Mozilla/5.0 (Macintosh; Intel Mac OS X 10_15_7) AppleWebKit/537.36 (KHTML, like Gecko) Chrome/113.0.0.0 Safari/537.36\",\n",
    "}\n",
    "\n",
    "response = requests.request(\"POST\", url, headers=headers)\n",
    "json_data = json.loads(response.content)\n",
    "print(json_data['Title'])\n",
    "PERS_DES_YNOLOCYLOCCAT=[]\n",
    "PERS_DES_YNOLOCYLOC=[]\n",
    "PERS_DES_YNOLOCYLOCCAT.append(json_data[\"Series\"][0][\"data\"][0][\"name\"])\n",
    "PERS_DES_YNOLOCYLOC.append(json_data[\"Series\"][0][\"data\"][0][\"y\"])\n",
    "PERS_DES_YNOLOCYLOCCAT.append(json_data[\"Series\"][0][\"data\"][1][\"name\"])\n",
    "PERS_DES_YNOLOCYLOC.append(json_data[\"Series\"][0][\"data\"][1][\"y\"])\n",
    "PERS_DES_YNOLOCYLOC_DF={'CATEGORIA':PERS_DES_YNOLOCYLOCCAT,\"PERSONAS\":PERS_DES_YNOLOCYLOC}\n",
    "PERS_DES_YNOLOCYLOC_Df=pd.DataFrame(PERS_DES_YNOLOCYLOC_DF)\n",
    "#PERS_DES_YNOLOCYLOC_Df.to_excel('PERS_DES_YNOLOCYLOC_Df.xlsx',index=False)\n",
    "PERS_DES_YNOLOCYLOC_Df.head()\n"
   ]
  },
  {
   "cell_type": "markdown",
   "id": "b5d407e2",
   "metadata": {},
   "source": [
    "# PERSONAS DESAPARECIDAS, NO LOCALIZADAS Y LOCALIZADAS\n",
    "## POR NACIONALIDAD MEXICANA Y EXTRANJEROS"
   ]
  },
  {
   "cell_type": "code",
   "execution_count": 8,
   "id": "2eb4b522",
   "metadata": {},
   "outputs": [
    {
     "data": {
      "text/html": [
       "<div>\n",
       "<style scoped>\n",
       "    .dataframe tbody tr th:only-of-type {\n",
       "        vertical-align: middle;\n",
       "    }\n",
       "\n",
       "    .dataframe tbody tr th {\n",
       "        vertical-align: top;\n",
       "    }\n",
       "\n",
       "    .dataframe thead th {\n",
       "        text-align: right;\n",
       "    }\n",
       "</style>\n",
       "<table border=\"1\" class=\"dataframe\">\n",
       "  <thead>\n",
       "    <tr style=\"text-align: right;\">\n",
       "      <th></th>\n",
       "      <th>CATEGORIA</th>\n",
       "      <th>PERSONAS</th>\n",
       "    </tr>\n",
       "  </thead>\n",
       "  <tbody>\n",
       "    <tr>\n",
       "      <th>0</th>\n",
       "      <td>Extranjera</td>\n",
       "      <td>4271</td>\n",
       "    </tr>\n",
       "    <tr>\n",
       "      <th>1</th>\n",
       "      <td>Mexicana</td>\n",
       "      <td>259158</td>\n",
       "    </tr>\n",
       "  </tbody>\n",
       "</table>\n",
       "</div>"
      ],
      "text/plain": [
       "    CATEGORIA  PERSONAS\n",
       "0  Extranjera      4271\n",
       "1    Mexicana    259158"
      ]
     },
     "execution_count": 8,
     "metadata": {},
     "output_type": "execute_result"
    }
   ],
   "source": [
    "url = \"https://versionpublicarnpdno.segob.gob.mx/ContextoGeneral/PieChartNacionalidad\"\n",
    "\n",
    "headers = {\n",
    "    \"cache-control\": \"no-cache\",\n",
    "    \"cookie\": COOKIE,\n",
    "    \"user-agent\": \"Mozilla/5.0 (Macintosh; Intel Mac OS X 10_15_7) AppleWebKit/537.36 (KHTML, like Gecko) Chrome/113.0.0.0 Safari/537.36\",\n",
    "}\n",
    "\n",
    "response = requests.request(\"POST\", url, headers=headers)\n",
    "json_data = json.loads(response.content)\n",
    "CAT_PERS_DESAP_NOLOCYLOCPORNAC=[]\n",
    "PERS_DESAP_NOLOCYLOCPORNAC=[]\n",
    "\n",
    "CAT_PERS_DESAP_NOLOCYLOCPORNAC.append(json_data['Series'][0][\"data\"][0]['name'])\n",
    "CAT_PERS_DESAP_NOLOCYLOCPORNAC.append(json_data['Series'][0][\"data\"][1]['name'])\n",
    "PERS_DESAP_NOLOCYLOCPORNAC.append(json_data['Series'][0][\"data\"][0]['y'])\n",
    "PERS_DESAP_NOLOCYLOCPORNAC.append(json_data['Series'][0][\"data\"][1]['y'])\n",
    "PERS_DESAP_NOLOCYLOCPORNA_DF={'CATEGORIA':CAT_PERS_DESAP_NOLOCYLOCPORNAC,\"PERSONAS\":PERS_DESAP_NOLOCYLOCPORNAC}\n",
    "PERS_DESAP_NOLOCYLOCPORNA_Df=pd.DataFrame(PERS_DESAP_NOLOCYLOCPORNA_DF)\n",
    "PERS_DESAP_NOLOCYLOCPORNA_Df.to_excel('PERS_DESAP_NOLOCYLOCPORNA_Df.xlsx',index=False)\n",
    "PERS_DESAP_NOLOCYLOCPORNA_Df.head()"
   ]
  },
  {
   "cell_type": "markdown",
   "id": "c01b8a84",
   "metadata": {},
   "source": [
    "# PERSONAS LOCALIZADAS\n",
    "## CON VIDA y SIN VIDA"
   ]
  },
  {
   "cell_type": "code",
   "execution_count": 9,
   "id": "e732e176",
   "metadata": {},
   "outputs": [
    {
     "data": {
      "text/html": [
       "<div>\n",
       "<style scoped>\n",
       "    .dataframe tbody tr th:only-of-type {\n",
       "        vertical-align: middle;\n",
       "    }\n",
       "\n",
       "    .dataframe tbody tr th {\n",
       "        vertical-align: top;\n",
       "    }\n",
       "\n",
       "    .dataframe thead th {\n",
       "        text-align: right;\n",
       "    }\n",
       "</style>\n",
       "<table border=\"1\" class=\"dataframe\">\n",
       "  <thead>\n",
       "    <tr style=\"text-align: right;\">\n",
       "      <th></th>\n",
       "      <th>CATEGORIA</th>\n",
       "      <th>PERSONAS</th>\n",
       "    </tr>\n",
       "  </thead>\n",
       "  <tbody>\n",
       "    <tr>\n",
       "      <th>0</th>\n",
       "      <td>Localizadas con vida</td>\n",
       "      <td>160683</td>\n",
       "    </tr>\n",
       "    <tr>\n",
       "      <th>1</th>\n",
       "      <td>Localizadas sin vida</td>\n",
       "      <td>12315</td>\n",
       "    </tr>\n",
       "  </tbody>\n",
       "</table>\n",
       "</div>"
      ],
      "text/plain": [
       "              CATEGORIA  PERSONAS\n",
       "0  Localizadas con vida    160683\n",
       "1  Localizadas sin vida     12315"
      ]
     },
     "execution_count": 9,
     "metadata": {},
     "output_type": "execute_result"
    }
   ],
   "source": [
    "url = \"https://versionpublicarnpdno.segob.gob.mx/ContextoGeneral/PieChartLocalizados\"\n",
    "\n",
    "headers = {\n",
    "    \"cache-control\": \"no-cache\",\n",
    "    \"cookie\": COOKIE,\n",
    "    \"user-agent\": \"Mozilla/5.0 (Macintosh; Intel Mac OS X 10_15_7) AppleWebKit/537.36 (KHTML, like Gecko) Chrome/113.0.0.0 Safari/537.36\",\n",
    "}\n",
    "\n",
    "response = requests.request(\"POST\", url, headers=headers)\n",
    "json_data = json.loads(response.content)\n",
    "CAT_PERS_LOC_CONVIDA_SINVIDA=[]\n",
    "PERS_LOC_CONVIDA_SINVIDA=[]\n",
    "\n",
    "CAT_PERS_LOC_CONVIDA_SINVIDA.append(json_data['Series'][0][\"data\"][0]['name'])\n",
    "CAT_PERS_LOC_CONVIDA_SINVIDA.append(json_data['Series'][0][\"data\"][1]['name'])\n",
    "PERS_LOC_CONVIDA_SINVIDA.append(json_data['Series'][0][\"data\"][0]['y'])\n",
    "PERS_LOC_CONVIDA_SINVIDA.append(json_data['Series'][0][\"data\"][1]['y'])\n",
    "PERS_LOC_CONVIDA_SINVIDA_DF={'CATEGORIA':CAT_PERS_LOC_CONVIDA_SINVIDA,\"PERSONAS\":PERS_LOC_CONVIDA_SINVIDA}\n",
    "PERS_LOC_CONVIDA_SINVIDA_Df=pd.DataFrame(PERS_LOC_CONVIDA_SINVIDA_DF)\n",
    "PERS_LOC_CONVIDA_SINVIDA_Df.to_excel('PERS_LOC_CONVIDA_SINVIDA_Df.xlsx',index=False)\n",
    "PERS_LOC_CONVIDA_SINVIDA_Df.head()"
   ]
  },
  {
   "cell_type": "markdown",
   "id": "0a176dc7",
   "metadata": {},
   "source": [
    "# PERSONAS DESAPARECIDAS Y NO LOCALIZADAS\n",
    "## POR SEXO"
   ]
  },
  {
   "cell_type": "code",
   "execution_count": 10,
   "id": "b41b8d94",
   "metadata": {},
   "outputs": [
    {
     "data": {
      "text/html": [
       "<div>\n",
       "<style scoped>\n",
       "    .dataframe tbody tr th:only-of-type {\n",
       "        vertical-align: middle;\n",
       "    }\n",
       "\n",
       "    .dataframe tbody tr th {\n",
       "        vertical-align: top;\n",
       "    }\n",
       "\n",
       "    .dataframe thead th {\n",
       "        text-align: right;\n",
       "    }\n",
       "</style>\n",
       "<table border=\"1\" class=\"dataframe\">\n",
       "  <thead>\n",
       "    <tr style=\"text-align: right;\">\n",
       "      <th></th>\n",
       "      <th>CATEGORIA</th>\n",
       "      <th>PERSONAS</th>\n",
       "    </tr>\n",
       "  </thead>\n",
       "  <tbody>\n",
       "    <tr>\n",
       "      <th>0</th>\n",
       "      <td>Hombre</td>\n",
       "      <td>83135</td>\n",
       "    </tr>\n",
       "    <tr>\n",
       "      <th>1</th>\n",
       "      <td>Mujer</td>\n",
       "      <td>26913</td>\n",
       "    </tr>\n",
       "    <tr>\n",
       "      <th>2</th>\n",
       "      <td>Indeterminado</td>\n",
       "      <td>706</td>\n",
       "    </tr>\n",
       "  </tbody>\n",
       "</table>\n",
       "</div>"
      ],
      "text/plain": [
       "       CATEGORIA  PERSONAS\n",
       "0         Hombre     83135\n",
       "1          Mujer     26913\n",
       "2  Indeterminado       706"
      ]
     },
     "execution_count": 10,
     "metadata": {},
     "output_type": "execute_result"
    }
   ],
   "source": [
    "url = \"https://versionpublicarnpdno.segob.gob.mx/ContextoGeneral/PieChartSexoEstatus\"\n",
    "payload = {\"IdEstatusV\": 1}\n",
    "headers = {\n",
    "    \"cookie\": COOKIE,\n",
    "    \"user-agent\": \"Mozilla/5.0 (Macintosh; Intel Mac OS X 10_15_7) AppleWebKit/537.36 (KHTML, like Gecko) Chrome/113.0.0.0 Safari/537.36\",\n",
    "}\n",
    "\n",
    "response = requests.request(\"POST\", url, json=payload, headers=headers)\n",
    "json_data = json.loads(response.content)\n",
    "CAT_PERS_DESAP_NOLOCYLOCPORSEX=[]\n",
    "PERS_DESAP_NOLOCYLOCPORSEX=[]\n",
    "\n",
    "CAT_PERS_DESAP_NOLOCYLOCPORSEX.append(json_data['Series'][0][\"data\"][0]['name'])\n",
    "CAT_PERS_DESAP_NOLOCYLOCPORSEX.append(json_data['Series'][0][\"data\"][1]['name'])\n",
    "CAT_PERS_DESAP_NOLOCYLOCPORSEX.append(json_data['Series'][0][\"data\"][2]['name'])\n",
    "PERS_DESAP_NOLOCYLOCPORSEX.append(json_data['Series'][0][\"data\"][0]['y'])\n",
    "PERS_DESAP_NOLOCYLOCPORSEX.append(json_data['Series'][0][\"data\"][1]['y'])\n",
    "PERS_DESAP_NOLOCYLOCPORSEX.append(json_data['Series'][0][\"data\"][2]['y'])\n",
    "PERS_DESAP_NOLOCYLOCPORSEX_DF={'CATEGORIA':CAT_PERS_DESAP_NOLOCYLOCPORSEX,\"PERSONAS\":PERS_DESAP_NOLOCYLOCPORSEX}\n",
    "PERS_DESAP_NOLOCYLOCPORSEX_Df=pd.DataFrame(PERS_DESAP_NOLOCYLOCPORSEX_DF)\n",
    "PERS_DESAP_NOLOCYLOCPORSEX_Df.to_excel('PERS_DESAP_NOLOCYLOCPORSEX_Df.xlsx',index=False)\n",
    "PERS_DESAP_NOLOCYLOCPORSEX_Df.head()"
   ]
  },
  {
   "cell_type": "markdown",
   "id": "d5467acf",
   "metadata": {},
   "source": [
    "# PERSONAS LOCALIZADAS CON VIDA\n",
    "## POR SEXO"
   ]
  },
  {
   "cell_type": "code",
   "execution_count": null,
   "id": "822b625e",
   "metadata": {},
   "outputs": [],
   "source": []
  },
  {
   "cell_type": "code",
   "execution_count": null,
   "id": "a4d4297b",
   "metadata": {},
   "outputs": [],
   "source": []
  },
  {
   "cell_type": "markdown",
   "id": "c082cf8d",
   "metadata": {},
   "source": [
    "# PERSONAS DESAPARECIDAS, NO LOCALIZADAS Y LOCALIZADAS\n",
    "## POR SEXO Y ESTADO"
   ]
  },
  {
   "cell_type": "code",
   "execution_count": 14,
   "id": "e6280a3d",
   "metadata": {},
   "outputs": [
    {
     "data": {
      "text/html": [
       "<div>\n",
       "<style scoped>\n",
       "    .dataframe tbody tr th:only-of-type {\n",
       "        vertical-align: middle;\n",
       "    }\n",
       "\n",
       "    .dataframe tbody tr th {\n",
       "        vertical-align: top;\n",
       "    }\n",
       "\n",
       "    .dataframe thead th {\n",
       "        text-align: right;\n",
       "    }\n",
       "</style>\n",
       "<table border=\"1\" class=\"dataframe\">\n",
       "  <thead>\n",
       "    <tr style=\"text-align: right;\">\n",
       "      <th></th>\n",
       "      <th>CATEGORIA</th>\n",
       "      <th>Hombre</th>\n",
       "      <th>Mujer</th>\n",
       "      <th>Indeterminado</th>\n",
       "    </tr>\n",
       "  </thead>\n",
       "  <tbody>\n",
       "    <tr>\n",
       "      <th>0</th>\n",
       "      <td>AGUASCALIENTES</td>\n",
       "      <td>2033</td>\n",
       "      <td>2684</td>\n",
       "      <td>2</td>\n",
       "    </tr>\n",
       "    <tr>\n",
       "      <th>1</th>\n",
       "      <td>BAJA CALIFORNIA</td>\n",
       "      <td>2946</td>\n",
       "      <td>2172</td>\n",
       "      <td>5</td>\n",
       "    </tr>\n",
       "    <tr>\n",
       "      <th>2</th>\n",
       "      <td>BAJA CALIFORNIA SUR</td>\n",
       "      <td>1185</td>\n",
       "      <td>560</td>\n",
       "      <td>4</td>\n",
       "    </tr>\n",
       "    <tr>\n",
       "      <th>3</th>\n",
       "      <td>CAMPECHE</td>\n",
       "      <td>537</td>\n",
       "      <td>770</td>\n",
       "      <td>2</td>\n",
       "    </tr>\n",
       "    <tr>\n",
       "      <th>4</th>\n",
       "      <td>COAHUILA</td>\n",
       "      <td>3428</td>\n",
       "      <td>1245</td>\n",
       "      <td>10</td>\n",
       "    </tr>\n",
       "  </tbody>\n",
       "</table>\n",
       "</div>"
      ],
      "text/plain": [
       "             CATEGORIA  Hombre  Mujer  Indeterminado\n",
       "0       AGUASCALIENTES    2033   2684              2\n",
       "1      BAJA CALIFORNIA    2946   2172              5\n",
       "2  BAJA CALIFORNIA SUR    1185    560              4\n",
       "3             CAMPECHE     537    770              2\n",
       "4             COAHUILA    3428   1245             10"
      ]
     },
     "execution_count": 14,
     "metadata": {},
     "output_type": "execute_result"
    }
   ],
   "source": [
    "url = \"https://versionpublicarnpdno.segob.gob.mx/SocioDemografico/BarChartSexoEstados\"\n",
    "payload = {\"IdEstatusV\": 1}\n",
    "headers = {\n",
    "    \"cookie\": COOKIE,\n",
    "    \"user-agent\": \"Mozilla/5.0 (Macintosh; Intel Mac OS X 10_15_7) AppleWebKit/537.36 (KHTML, like Gecko) Chrome/113.0.0.0 Safari/537.36\",\n",
    "}\n",
    "\n",
    "response = requests.request(\"POST\", url, json=payload, headers=headers)\n",
    "json_data = json.loads(response.content)\n",
    "\n",
    "CAT_PERS_DESAP_NOLOCYLOCPOREDO=[]\n",
    "PERS_DESAP_NOLOCYLOCPOREDO_Hombre=[]\n",
    "PERS_DESAP_NOLOCYLOCPOREDO_Mujer=[]\n",
    "PERS_DESAP_NOLOCYLOCPOREDO_Indeterminado=[]\n",
    "CAT_PERS_DESAP_NOLOCYLOCPOREDO.extend(json_data['XAxisCategories'])\n",
    "PERS_DESAP_NOLOCYLOCPOREDO_Hombre.extend(json_data['Series'][0]['data'])\n",
    "PERS_DESAP_NOLOCYLOCPOREDO_Mujer.extend(json_data['Series'][1]['data'])\n",
    "PERS_DESAP_NOLOCYLOCPOREDO_Indeterminado.extend(json_data['Series'][2]['data'])\n",
    "PERS_DESAP_NOLOCYLOCPOREDO_DF={'CATEGORIA':CAT_PERS_DESAP_NOLOCYLOCPOREDO,\"Hombre\":PERS_DESAP_NOLOCYLOCPOREDO_Hombre,\"Mujer\":PERS_DESAP_NOLOCYLOCPOREDO_Mujer,\"Indeterminado\":PERS_DESAP_NOLOCYLOCPOREDO_Indeterminado}\n",
    "PERS_DESAP_NOLOCYLOCPOREDO_Df=pd.DataFrame(PERS_DESAP_NOLOCYLOCPOREDO_DF)\n",
    "PERS_DESAP_NOLOCYLOCPOREDO_Df.to_excel('PERS_DESAP_NOLOCYLOCPOREDO_Df.xlsx',index=False)\n",
    "PERS_DESAP_NOLOCYLOCPOREDO_Df.head()"
   ]
  },
  {
   "cell_type": "markdown",
   "id": "7e84269f",
   "metadata": {},
   "source": [
    "https://adondevanlosdesaparecidos.org/2020/07/13/presentan-plataforma-de-personas-desaparecidas-pero-no-abren-datos/"
   ]
  },
  {
   "cell_type": "code",
   "execution_count": null,
   "id": "83bae95d",
   "metadata": {},
   "outputs": [],
   "source": []
  },
  {
   "cell_type": "code",
   "execution_count": null,
   "id": "c4d1d84e",
   "metadata": {},
   "outputs": [],
   "source": []
  },
  {
   "cell_type": "code",
   "execution_count": null,
   "id": "ff825af1",
   "metadata": {},
   "outputs": [],
   "source": []
  },
  {
   "cell_type": "code",
   "execution_count": null,
   "id": "a4dccb22",
   "metadata": {},
   "outputs": [],
   "source": []
  },
  {
   "cell_type": "code",
   "execution_count": null,
   "id": "ba9c8380",
   "metadata": {},
   "outputs": [],
   "source": [
    "#from lxml import etree\n",
    "#import pandas as pd \n",
    "#import datetime \n",
    "#from lxml import html\n",
    "#import random\n",
    "#from selenium import webdriver\n",
    "#from selenium.webdriver.common.by import By\n",
    "#from selenium.webdriver.support import expected_conditions as EC\n",
    "#from selenium.webdriver.support.ui import WebDriverWait\n",
    "#import time\n",
    "\n",
    "#url=\"https://versionpublicarnpdno.segob.gob.mx/Dashboard/ContextoGeneral\"\n",
    "#driver=webdriver.Chrome('./chromedriver.exe')\n",
    "#driver.get(url)\n",
    "\n",
    "#try:\n",
    "#    checkbox = driver.find_element(By.ID, \"chkAceptarTerminos\")\n",
    "#    checkbox.click()\n",
    "#    boton = driver.find_element(By.ID, \"EnlaceSiguiente\")\n",
    "#    boton.click()\n",
    "#except:\n",
    "#    print(\"No hay términos\")\n",
    "#try:\n",
    "#    boton3 = driver.find_element(By.ID, \"EnlaceSiguiente\")\n",
    "#    boton3.click()\n",
    "#except:\n",
    "#    print(\"No hay 2da advertencia\")    \n",
    "#try:\n",
    "#    boton2 = driver.find_element(By.ID, \"close-modal-cargas-masivas\")\n",
    "#    boton2.click()\n",
    "#except:\n",
    "#    print(\"No hay cargas masivas\")\n",
    "#time.sleep(35) \n",
    "#codigo con selenium (1era prueba)\n",
    "#import requests \n",
    "#from bs4 import BeautifulSoup \n",
    "  \n",
    "#Total_de_personas_desaparecidasnolocyloc = driver.find_element(By.ID, \"TotalGlobal\").text\n",
    "#Total_de_personas_desaparecidasnoloc = driver.find_element(By.ID, \"TotalDesaparecidosNoLocalizados\").text\n",
    "#print(Total_de_personas_desaparecidasnoloc)\n",
    "\n",
    "#element = driver.find_element(By.XPATH, \"//*[@id='highcharts-qj6v20v-978']/svg/g[3]/g/rect\")\n",
    "#element.click()"
   ]
  },
  {
   "cell_type": "code",
   "execution_count": null,
   "id": "fe70c834",
   "metadata": {},
   "outputs": [],
   "source": []
  }
 ],
 "metadata": {
  "kernelspec": {
   "display_name": "Python 3 (ipykernel)",
   "language": "python",
   "name": "python3"
  },
  "language_info": {
   "codemirror_mode": {
    "name": "ipython",
    "version": 3
   },
   "file_extension": ".py",
   "mimetype": "text/x-python",
   "name": "python",
   "nbconvert_exporter": "python",
   "pygments_lexer": "ipython3",
   "version": "3.9.16"
  }
 },
 "nbformat": 4,
 "nbformat_minor": 5
}
